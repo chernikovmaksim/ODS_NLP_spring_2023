{
 "cells": [
  {
   "cell_type": "code",
   "execution_count": 1,
   "id": "93bade7f",
   "metadata": {
    "execution": {
     "iopub.execute_input": "2023-04-26T16:57:31.911332Z",
     "iopub.status.busy": "2023-04-26T16:57:31.910911Z",
     "iopub.status.idle": "2023-04-26T16:57:42.541947Z",
     "shell.execute_reply": "2023-04-26T16:57:42.540764Z"
    },
    "papermill": {
     "duration": 10.640281,
     "end_time": "2023-04-26T16:57:42.544605",
     "exception": false,
     "start_time": "2023-04-26T16:57:31.904324",
     "status": "completed"
    },
    "tags": []
   },
   "outputs": [
    {
     "name": "stdout",
     "output_type": "stream",
     "text": [
      "Collecting contractions\r\n",
      "  Downloading contractions-0.1.73-py2.py3-none-any.whl (8.7 kB)\r\n",
      "Collecting textsearch>=0.0.21\r\n",
      "  Downloading textsearch-0.0.24-py2.py3-none-any.whl (7.6 kB)\r\n",
      "Collecting pyahocorasick\r\n",
      "  Downloading pyahocorasick-2.0.0-cp37-cp37m-manylinux_2_5_x86_64.manylinux1_x86_64.whl (101 kB)\r\n",
      "\u001b[2K     \u001b[90m━━━━━━━━━━━━━━━━━━━━━━━━━━━━━━━━━━━━━━━\u001b[0m \u001b[32m101.8/101.8 kB\u001b[0m \u001b[31m8.1 MB/s\u001b[0m eta \u001b[36m0:00:00\u001b[0m\r\n",
      "\u001b[?25hCollecting anyascii\r\n",
      "  Downloading anyascii-0.3.2-py3-none-any.whl (289 kB)\r\n",
      "\u001b[2K     \u001b[90m━━━━━━━━━━━━━━━━━━━━━━━━━━━━━━━━━━━━━━\u001b[0m \u001b[32m289.9/289.9 kB\u001b[0m \u001b[31m23.1 MB/s\u001b[0m eta \u001b[36m0:00:00\u001b[0m\r\n",
      "\u001b[?25hInstalling collected packages: pyahocorasick, anyascii, textsearch, contractions\r\n",
      "Successfully installed anyascii-0.3.2 contractions-0.1.73 pyahocorasick-2.0.0 textsearch-0.0.24\r\n",
      "\u001b[33mWARNING: Running pip as the 'root' user can result in broken permissions and conflicting behaviour with the system package manager. It is recommended to use a virtual environment instead: https://pip.pypa.io/warnings/venv\u001b[0m\u001b[33m\r\n",
      "\u001b[0m"
     ]
    }
   ],
   "source": [
    "!pip install contractions"
   ]
  },
  {
   "cell_type": "code",
   "execution_count": 2,
   "id": "c9fbff71",
   "metadata": {
    "execution": {
     "iopub.execute_input": "2023-04-26T16:57:42.555683Z",
     "iopub.status.busy": "2023-04-26T16:57:42.555366Z",
     "iopub.status.idle": "2023-04-26T16:57:45.150340Z",
     "shell.execute_reply": "2023-04-26T16:57:45.149159Z"
    },
    "papermill": {
     "duration": 2.603504,
     "end_time": "2023-04-26T16:57:45.152960",
     "exception": false,
     "start_time": "2023-04-26T16:57:42.549456",
     "status": "completed"
    },
    "tags": []
   },
   "outputs": [
    {
     "name": "stdout",
     "output_type": "stream",
     "text": [
      "/opt/conda/lib/python3.7/runpy.py:125: RuntimeWarning: 'nltk.downloader' found in sys.modules after import of package 'nltk', but prior to execution of 'nltk.downloader'; this may result in unpredictable behaviour\r\n",
      "  warn(RuntimeWarning(msg))\r\n",
      "[nltk_data] Downloading package wordnet to /usr/share/nltk_data...\r\n",
      "[nltk_data]   Package wordnet is already up-to-date!\r\n"
     ]
    }
   ],
   "source": [
    "!python3 -m nltk.downloader wordnet"
   ]
  },
  {
   "cell_type": "code",
   "execution_count": 3,
   "id": "f09ed9ca",
   "metadata": {
    "execution": {
     "iopub.execute_input": "2023-04-26T16:57:45.164332Z",
     "iopub.status.busy": "2023-04-26T16:57:45.164013Z",
     "iopub.status.idle": "2023-04-26T16:57:46.408066Z",
     "shell.execute_reply": "2023-04-26T16:57:46.406943Z"
    },
    "papermill": {
     "duration": 1.25234,
     "end_time": "2023-04-26T16:57:46.410509",
     "exception": false,
     "start_time": "2023-04-26T16:57:45.158169",
     "status": "completed"
    },
    "tags": []
   },
   "outputs": [
    {
     "name": "stdout",
     "output_type": "stream",
     "text": [
      "Archive:  /usr/share/nltk_data/corpora/wordnet.zip\r\n",
      "   creating: /usr/share/nltk_data/corpora/wordnet/\r\n",
      "  inflating: /usr/share/nltk_data/corpora/wordnet/lexnames  \r\n",
      "  inflating: /usr/share/nltk_data/corpora/wordnet/data.verb  \r\n",
      "  inflating: /usr/share/nltk_data/corpora/wordnet/index.adv  \r\n",
      "  inflating: /usr/share/nltk_data/corpora/wordnet/adv.exc  \r\n",
      "  inflating: /usr/share/nltk_data/corpora/wordnet/index.verb  \r\n",
      "  inflating: /usr/share/nltk_data/corpora/wordnet/cntlist.rev  \r\n",
      "  inflating: /usr/share/nltk_data/corpora/wordnet/data.adj  \r\n",
      "  inflating: /usr/share/nltk_data/corpora/wordnet/index.adj  \r\n",
      "  inflating: /usr/share/nltk_data/corpora/wordnet/LICENSE  \r\n",
      "  inflating: /usr/share/nltk_data/corpora/wordnet/citation.bib  \r\n",
      "  inflating: /usr/share/nltk_data/corpora/wordnet/noun.exc  \r\n",
      "  inflating: /usr/share/nltk_data/corpora/wordnet/verb.exc  \r\n",
      "  inflating: /usr/share/nltk_data/corpora/wordnet/README  \r\n",
      "  inflating: /usr/share/nltk_data/corpora/wordnet/index.sense  \r\n",
      "  inflating: /usr/share/nltk_data/corpora/wordnet/data.noun  \r\n",
      "  inflating: /usr/share/nltk_data/corpora/wordnet/data.adv  \r\n",
      "  inflating: /usr/share/nltk_data/corpora/wordnet/index.noun  \r\n",
      "  inflating: /usr/share/nltk_data/corpora/wordnet/adj.exc  \r\n"
     ]
    }
   ],
   "source": [
    "!unzip /usr/share/nltk_data/corpora/wordnet.zip -d /usr/share/nltk_data/corpora"
   ]
  },
  {
   "cell_type": "code",
   "execution_count": 4,
   "id": "3b04822a",
   "metadata": {
    "_cell_guid": "b1076dfc-b9ad-4769-8c92-a6c4dae69d19",
    "_uuid": "8f2839f25d086af736a60e9eeb907d3b93b6e0e5",
    "execution": {
     "iopub.execute_input": "2023-04-26T16:57:46.423062Z",
     "iopub.status.busy": "2023-04-26T16:57:46.422018Z",
     "iopub.status.idle": "2023-04-26T16:57:46.978526Z",
     "shell.execute_reply": "2023-04-26T16:57:46.977449Z"
    },
    "papermill": {
     "duration": 0.565285,
     "end_time": "2023-04-26T16:57:46.980942",
     "exception": false,
     "start_time": "2023-04-26T16:57:46.415657",
     "status": "completed"
    },
    "tags": []
   },
   "outputs": [
    {
     "name": "stdout",
     "output_type": "stream",
     "text": [
      "/kaggle/input/quora-insincere-questions-classification/sample_submission.csv\n",
      "/kaggle/input/quora-insincere-questions-classification/embeddings.zip\n",
      "/kaggle/input/quora-insincere-questions-classification/train.csv\n",
      "/kaggle/input/quora-insincere-questions-classification/test.csv\n"
     ]
    }
   ],
   "source": [
    "# This Python 3 environment comes with many helpful analytics libraries installed\n",
    "# It is defined by the kaggle/python Docker image: https://github.com/kaggle/docker-python\n",
    "# For example, here's several helpful packages to load\n",
    "\n",
    "import numpy as np # linear algebra\n",
    "import pandas as pd # data processing, CSV file I/O (e.g. pd.read_csv)\n",
    "\n",
    "# Libraries to drop english words and tokenize the text\n",
    "import nltk\n",
    "from nltk.corpus import stopwords\n",
    "from nltk.tokenize import word_tokenize\n",
    "from nltk.stem.wordnet import WordNetLemmatizer\n",
    "from nltk.corpus import wordnet\n",
    "\n",
    "import contractions\n",
    "import string\n",
    "\n",
    "# Libraries for TF-IDF model and Logistic Regression\n",
    "from sklearn.feature_extraction.text import TfidfVectorizer\n",
    "from sklearn.model_selection import train_test_split\n",
    "from sklearn.linear_model import LogisticRegression\n",
    "from sklearn.metrics import classification_report, roc_auc_score\n",
    "\n",
    "# Input data files are available in the read-only \"../input/\" directory\n",
    "# For example, running this (by clicking run or pressing Shift+Enter) will list all files under the input directory\n",
    "\n",
    "import os\n",
    "for dirname, _, filenames in os.walk('/kaggle/input'):\n",
    "    for filename in filenames:\n",
    "        print(os.path.join(dirname, filename))\n",
    "\n",
    "# You can write up to 20GB to the current directory (/kaggle/working/) that gets preserved as output when you create a version using \"Save & Run All\" \n",
    "# You can also write temporary files to /kaggle/temp/, but they won't be saved outside of the current session"
   ]
  },
  {
   "cell_type": "code",
   "execution_count": 5,
   "id": "546e579d",
   "metadata": {
    "execution": {
     "iopub.execute_input": "2023-04-26T16:57:46.993768Z",
     "iopub.status.busy": "2023-04-26T16:57:46.991966Z",
     "iopub.status.idle": "2023-04-26T16:57:47.059339Z",
     "shell.execute_reply": "2023-04-26T16:57:47.058245Z"
    },
    "papermill": {
     "duration": 0.075401,
     "end_time": "2023-04-26T16:57:47.061356",
     "exception": false,
     "start_time": "2023-04-26T16:57:46.985955",
     "status": "completed"
    },
    "tags": []
   },
   "outputs": [
    {
     "name": "stdout",
     "output_type": "stream",
     "text": [
      "[nltk_data] Downloading package stopwords to /usr/share/nltk_data...\n",
      "[nltk_data]   Package stopwords is already up-to-date!\n",
      "[nltk_data] Downloading package wordnet to /usr/share/nltk_data...\n",
      "[nltk_data]   Package wordnet is already up-to-date!\n"
     ]
    },
    {
     "data": {
      "text/plain": [
       "True"
      ]
     },
     "execution_count": 5,
     "metadata": {},
     "output_type": "execute_result"
    }
   ],
   "source": [
    "nltk.download('stopwords')\n",
    "nltk.download('wordnet')"
   ]
  },
  {
   "cell_type": "markdown",
   "id": "ccbbf2e5",
   "metadata": {
    "papermill": {
     "duration": 0.004787,
     "end_time": "2023-04-26T16:57:47.071073",
     "exception": false,
     "start_time": "2023-04-26T16:57:47.066286",
     "status": "completed"
    },
    "tags": []
   },
   "source": [
    "---\n",
    "# <font color=green>Preprocess the data</font>"
   ]
  },
  {
   "cell_type": "code",
   "execution_count": 6,
   "id": "231878c2",
   "metadata": {
    "execution": {
     "iopub.execute_input": "2023-04-26T16:57:47.082295Z",
     "iopub.status.busy": "2023-04-26T16:57:47.082017Z",
     "iopub.status.idle": "2023-04-26T16:57:53.953849Z",
     "shell.execute_reply": "2023-04-26T16:57:53.952603Z"
    },
    "papermill": {
     "duration": 6.880248,
     "end_time": "2023-04-26T16:57:53.956440",
     "exception": false,
     "start_time": "2023-04-26T16:57:47.076192",
     "status": "completed"
    },
    "tags": []
   },
   "outputs": [],
   "source": [
    "# DataFrame with Test data\n",
    "test_df = pd.read_csv(f'/kaggle/input/quora-insincere-questions-classification/test.csv')\n",
    "# DataFrame with Train Data\n",
    "train_df = pd.read_csv(f'/kaggle/input/quora-insincere-questions-classification/train.csv')"
   ]
  },
  {
   "cell_type": "code",
   "execution_count": 7,
   "id": "f60934f9",
   "metadata": {
    "execution": {
     "iopub.execute_input": "2023-04-26T16:57:53.968521Z",
     "iopub.status.busy": "2023-04-26T16:57:53.968200Z",
     "iopub.status.idle": "2023-04-26T16:57:53.975657Z",
     "shell.execute_reply": "2023-04-26T16:57:53.974731Z"
    },
    "papermill": {
     "duration": 0.015997,
     "end_time": "2023-04-26T16:57:53.977864",
     "exception": false,
     "start_time": "2023-04-26T16:57:53.961867",
     "status": "completed"
    },
    "tags": []
   },
   "outputs": [],
   "source": [
    "#  The Function for text preprocessing\n",
    "def tokenize_string(text):\n",
    "\n",
    "    # Before lemmatizing replace all constructions with normal words\n",
    "    text_upd = contractions.fix(text)\n",
    "\n",
    "    # Tokenize the data and use only lower letters\n",
    "    words = word_tokenize(text_upd.lower())\n",
    "    \n",
    "    # Create a lemmatizer object\n",
    "    lemmatizer = WordNetLemmatizer()\n",
    "    lemmas = [lemmatizer.lemmatize(word, pos = \"v\") for word in words] \n",
    "    \n",
    "    # # Get rid of punctuation\n",
    "    words = [word for word in lemmas if word not in string.punctuation]\n",
    "    \n",
    "    # Remove stop words\n",
    "    # Stop words corpus (179 in total)\n",
    "    stop_words = set(stopwords.words('english'))\n",
    "    words = [word for word in words if word not in stop_words]\n",
    "    \n",
    "    return words"
   ]
  },
  {
   "cell_type": "code",
   "execution_count": 8,
   "id": "b1379f8d",
   "metadata": {
    "execution": {
     "iopub.execute_input": "2023-04-26T16:57:53.989438Z",
     "iopub.status.busy": "2023-04-26T16:57:53.989164Z",
     "iopub.status.idle": "2023-04-26T17:09:04.224074Z",
     "shell.execute_reply": "2023-04-26T17:09:04.223004Z"
    },
    "papermill": {
     "duration": 670.24388,
     "end_time": "2023-04-26T17:09:04.226832",
     "exception": false,
     "start_time": "2023-04-26T16:57:53.982952",
     "status": "completed"
    },
    "tags": []
   },
   "outputs": [
    {
     "name": "stdout",
     "output_type": "stream",
     "text": [
      "I have just started updatind test_df\n",
      "I have just started updatind train_df\n"
     ]
    }
   ],
   "source": [
    "# Tokenizing the series for test data\n",
    "print('I have just started updatind test_df')\n",
    "test_df['Preprocessed_text'] = test_df.question_text.apply(tokenize_string)\n",
    "\n",
    "# Tokenizing the series for train data\n",
    "print('I have just started updatind train_df')\n",
    "train_df['Preprocessed_text'] = train_df.question_text.apply(tokenize_string)"
   ]
  },
  {
   "cell_type": "code",
   "execution_count": 9,
   "id": "da5403bf",
   "metadata": {
    "execution": {
     "iopub.execute_input": "2023-04-26T17:09:04.239005Z",
     "iopub.status.busy": "2023-04-26T17:09:04.238682Z",
     "iopub.status.idle": "2023-04-26T17:09:04.254390Z",
     "shell.execute_reply": "2023-04-26T17:09:04.253478Z"
    },
    "papermill": {
     "duration": 0.02409,
     "end_time": "2023-04-26T17:09:04.256513",
     "exception": false,
     "start_time": "2023-04-26T17:09:04.232423",
     "status": "completed"
    },
    "tags": []
   },
   "outputs": [
    {
     "data": {
      "text/html": [
       "<div>\n",
       "<style scoped>\n",
       "    .dataframe tbody tr th:only-of-type {\n",
       "        vertical-align: middle;\n",
       "    }\n",
       "\n",
       "    .dataframe tbody tr th {\n",
       "        vertical-align: top;\n",
       "    }\n",
       "\n",
       "    .dataframe thead th {\n",
       "        text-align: right;\n",
       "    }\n",
       "</style>\n",
       "<table border=\"1\" class=\"dataframe\">\n",
       "  <thead>\n",
       "    <tr style=\"text-align: right;\">\n",
       "      <th></th>\n",
       "      <th>qid</th>\n",
       "      <th>question_text</th>\n",
       "      <th>target</th>\n",
       "      <th>Preprocessed_text</th>\n",
       "    </tr>\n",
       "  </thead>\n",
       "  <tbody>\n",
       "    <tr>\n",
       "      <th>0</th>\n",
       "      <td>00002165364db923c7e6</td>\n",
       "      <td>How did Quebec nationalists see their province...</td>\n",
       "      <td>0</td>\n",
       "      <td>[quebec, nationalists, see, province, nation, ...</td>\n",
       "    </tr>\n",
       "    <tr>\n",
       "      <th>1</th>\n",
       "      <td>000032939017120e6e44</td>\n",
       "      <td>Do you have an adopted dog, how would you enco...</td>\n",
       "      <td>0</td>\n",
       "      <td>[adopt, dog, would, encourage, people, adopt, ...</td>\n",
       "    </tr>\n",
       "    <tr>\n",
       "      <th>2</th>\n",
       "      <td>0000412ca6e4628ce2cf</td>\n",
       "      <td>Why does velocity affect time? Does velocity a...</td>\n",
       "      <td>0</td>\n",
       "      <td>[velocity, affect, time, velocity, affect, spa...</td>\n",
       "    </tr>\n",
       "    <tr>\n",
       "      <th>3</th>\n",
       "      <td>000042bf85aa498cd78e</td>\n",
       "      <td>How did Otto von Guericke used the Magdeburg h...</td>\n",
       "      <td>0</td>\n",
       "      <td>[otto, von, guericke, use, magdeburg, hemisphe...</td>\n",
       "    </tr>\n",
       "    <tr>\n",
       "      <th>4</th>\n",
       "      <td>0000455dfa3e01eae3af</td>\n",
       "      <td>Can I convert montra helicon D to a mountain b...</td>\n",
       "      <td>0</td>\n",
       "      <td>[convert, montra, helicon, mountain, bike, cha...</td>\n",
       "    </tr>\n",
       "  </tbody>\n",
       "</table>\n",
       "</div>"
      ],
      "text/plain": [
       "                    qid                                      question_text  \\\n",
       "0  00002165364db923c7e6  How did Quebec nationalists see their province...   \n",
       "1  000032939017120e6e44  Do you have an adopted dog, how would you enco...   \n",
       "2  0000412ca6e4628ce2cf  Why does velocity affect time? Does velocity a...   \n",
       "3  000042bf85aa498cd78e  How did Otto von Guericke used the Magdeburg h...   \n",
       "4  0000455dfa3e01eae3af  Can I convert montra helicon D to a mountain b...   \n",
       "\n",
       "   target                                  Preprocessed_text  \n",
       "0       0  [quebec, nationalists, see, province, nation, ...  \n",
       "1       0  [adopt, dog, would, encourage, people, adopt, ...  \n",
       "2       0  [velocity, affect, time, velocity, affect, spa...  \n",
       "3       0  [otto, von, guericke, use, magdeburg, hemisphe...  \n",
       "4       0  [convert, montra, helicon, mountain, bike, cha...  "
      ]
     },
     "execution_count": 9,
     "metadata": {},
     "output_type": "execute_result"
    }
   ],
   "source": [
    "train_df.head()"
   ]
  },
  {
   "cell_type": "markdown",
   "id": "b686602e",
   "metadata": {
    "papermill": {
     "duration": 0.00501,
     "end_time": "2023-04-26T17:09:04.266623",
     "exception": false,
     "start_time": "2023-04-26T17:09:04.261613",
     "status": "completed"
    },
    "tags": []
   },
   "source": [
    "---\n",
    "# <font color=green>Creating baseline model based on Logistic Regression</font>"
   ]
  },
  {
   "cell_type": "code",
   "execution_count": 10,
   "id": "7885ced9",
   "metadata": {
    "execution": {
     "iopub.execute_input": "2023-04-26T17:09:04.278115Z",
     "iopub.status.busy": "2023-04-26T17:09:04.277839Z",
     "iopub.status.idle": "2023-04-26T17:09:05.085219Z",
     "shell.execute_reply": "2023-04-26T17:09:05.084118Z"
    },
    "papermill": {
     "duration": 0.816235,
     "end_time": "2023-04-26T17:09:05.087987",
     "exception": false,
     "start_time": "2023-04-26T17:09:04.271752",
     "status": "completed"
    },
    "tags": []
   },
   "outputs": [],
   "source": [
    "train_df['text'] = train_df.Preprocessed_text.apply(lambda x: ' '.join(x))\n",
    "test_df['text'] = test_df.Preprocessed_text.apply(lambda x: ' '.join(x))"
   ]
  },
  {
   "cell_type": "code",
   "execution_count": 11,
   "id": "81a2f057",
   "metadata": {
    "execution": {
     "iopub.execute_input": "2023-04-26T17:09:05.100433Z",
     "iopub.status.busy": "2023-04-26T17:09:05.100121Z",
     "iopub.status.idle": "2023-04-26T17:09:05.104427Z",
     "shell.execute_reply": "2023-04-26T17:09:05.103379Z"
    },
    "papermill": {
     "duration": 0.013075,
     "end_time": "2023-04-26T17:09:05.106658",
     "exception": false,
     "start_time": "2023-04-26T17:09:05.093583",
     "status": "completed"
    },
    "tags": []
   },
   "outputs": [],
   "source": [
    "# Create the TF-IDF vectorizer\n",
    "vectorizer = TfidfVectorizer()"
   ]
  },
  {
   "cell_type": "code",
   "execution_count": 12,
   "id": "e4f5d2fa",
   "metadata": {
    "execution": {
     "iopub.execute_input": "2023-04-26T17:09:05.118433Z",
     "iopub.status.busy": "2023-04-26T17:09:05.118149Z",
     "iopub.status.idle": "2023-04-26T17:09:19.119437Z",
     "shell.execute_reply": "2023-04-26T17:09:19.118367Z"
    },
    "papermill": {
     "duration": 14.010603,
     "end_time": "2023-04-26T17:09:19.122427",
     "exception": false,
     "start_time": "2023-04-26T17:09:05.111824",
     "status": "completed"
    },
    "tags": []
   },
   "outputs": [],
   "source": [
    "# Vectorize the sentences\n",
    "X_train = vectorizer.fit_transform(train_df['text'])\n",
    "X_test = vectorizer.transform(test_df['text'])\n",
    "\n",
    "y_train = train_df.target.values"
   ]
  },
  {
   "cell_type": "code",
   "execution_count": 13,
   "id": "e59b206d",
   "metadata": {
    "execution": {
     "iopub.execute_input": "2023-04-26T17:09:19.134742Z",
     "iopub.status.busy": "2023-04-26T17:09:19.134437Z",
     "iopub.status.idle": "2023-04-26T17:09:39.432855Z",
     "shell.execute_reply": "2023-04-26T17:09:39.431757Z"
    },
    "papermill": {
     "duration": 20.30745,
     "end_time": "2023-04-26T17:09:39.435520",
     "exception": false,
     "start_time": "2023-04-26T17:09:19.128070",
     "status": "completed"
    },
    "tags": []
   },
   "outputs": [],
   "source": [
    "# Train a logistic regression model on the vectorized data\n",
    "clf = LogisticRegression(random_state=0, solver='liblinear').fit(X_train, y_train)"
   ]
  },
  {
   "cell_type": "code",
   "execution_count": 14,
   "id": "6479f940",
   "metadata": {
    "execution": {
     "iopub.execute_input": "2023-04-26T17:09:39.448787Z",
     "iopub.status.busy": "2023-04-26T17:09:39.447834Z",
     "iopub.status.idle": "2023-04-26T17:09:39.463874Z",
     "shell.execute_reply": "2023-04-26T17:09:39.462953Z"
    },
    "papermill": {
     "duration": 0.024804,
     "end_time": "2023-04-26T17:09:39.466042",
     "exception": false,
     "start_time": "2023-04-26T17:09:39.441238",
     "status": "completed"
    },
    "tags": []
   },
   "outputs": [],
   "source": [
    "# Make a prediction on new data\n",
    "y_pred = clf.predict(X_test)"
   ]
  },
  {
   "cell_type": "markdown",
   "id": "978adc1d",
   "metadata": {
    "papermill": {
     "duration": 0.005035,
     "end_time": "2023-04-26T17:09:39.476243",
     "exception": false,
     "start_time": "2023-04-26T17:09:39.471208",
     "status": "completed"
    },
    "tags": []
   },
   "source": [
    "---\n",
    "# <font color=green>Making the final file</font>"
   ]
  },
  {
   "cell_type": "code",
   "execution_count": 15,
   "id": "7e928011",
   "metadata": {
    "execution": {
     "iopub.execute_input": "2023-04-26T17:09:39.488384Z",
     "iopub.status.busy": "2023-04-26T17:09:39.487549Z",
     "iopub.status.idle": "2023-04-26T17:09:39.986036Z",
     "shell.execute_reply": "2023-04-26T17:09:39.984774Z"
    },
    "papermill": {
     "duration": 0.507554,
     "end_time": "2023-04-26T17:09:39.988970",
     "exception": false,
     "start_time": "2023-04-26T17:09:39.481416",
     "status": "completed"
    },
    "tags": []
   },
   "outputs": [],
   "source": [
    "pd.DataFrame({'qid': test_df.qid, 'prediction': y_pred}).to_csv('submission_logistic_reg.csv', index='qid')"
   ]
  },
  {
   "cell_type": "code",
   "execution_count": null,
   "id": "e92c0ca3",
   "metadata": {
    "papermill": {
     "duration": 0.00514,
     "end_time": "2023-04-26T17:09:40.000602",
     "exception": false,
     "start_time": "2023-04-26T17:09:39.995462",
     "status": "completed"
    },
    "tags": []
   },
   "outputs": [],
   "source": []
  }
 ],
 "metadata": {
  "kernelspec": {
   "display_name": "Python 3",
   "language": "python",
   "name": "python3"
  },
  "language_info": {
   "codemirror_mode": {
    "name": "ipython",
    "version": 3
   },
   "file_extension": ".py",
   "mimetype": "text/x-python",
   "name": "python",
   "nbconvert_exporter": "python",
   "pygments_lexer": "ipython3",
   "version": "3.7.12"
  },
  "papermill": {
   "default_parameters": {},
   "duration": 739.058643,
   "end_time": "2023-04-26T17:09:41.730818",
   "environment_variables": {},
   "exception": null,
   "input_path": "__notebook__.ipynb",
   "output_path": "__notebook__.ipynb",
   "parameters": {},
   "start_time": "2023-04-26T16:57:22.672175",
   "version": "2.4.0"
  }
 },
 "nbformat": 4,
 "nbformat_minor": 5
}
