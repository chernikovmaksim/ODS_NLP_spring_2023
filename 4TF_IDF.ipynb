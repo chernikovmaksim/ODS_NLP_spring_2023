{
 "cells": [
  {
   "attachments": {},
   "cell_type": "markdown",
   "metadata": {},
   "source": [
    "- Проанализировать возможность подготовки текстов при помощи модели TF_IDF\n",
    "- Оценить временные затраты для преобразования текстов\n",
    "- Проанализировать качество полученных эмбеддингов (сделать print, посмотреть, как оно выглядит на плоскости)\n",
    "- Добавить базовую модель для классификации: Catboost, LightGBM, LogisticRegression или любые другие (взять один из них и сравнить с LogisticRegression, попробовать выбить лучшее качество)\n",
    "- Написать реализацию и оформить в ноутбук, посчитать метрики (как минимум, accuracy и остальное по желанию), написать выводы, сравнить метрики с лидербордом (https://www.kaggle.com/competitions/quora-insincere-questions-classification/leaderboard)"
   ]
  },
  {
   "cell_type": "code",
   "execution_count": null,
   "metadata": {},
   "outputs": [],
   "source": [
    "import pandas as pd\n",
    "from pathlib import Path\n",
    "\n",
    "# Get project path\n",
    "project_path = Path.cwd().resolve().parent.parent\n",
    "print(project_path)\n",
    "\n",
    "# Libraries for TF-IDF model and Logistic Regression\n",
    "from sklearn.feature_extraction.text import TfidfVectorizer\n",
    "from sklearn.model_selection import train_test_split\n",
    "from sklearn.linear_model import LogisticRegression\n",
    "from sklearn.metrics import classification_report, roc_auc_score"
   ]
  },
  {
   "attachments": {},
   "cell_type": "markdown",
   "metadata": {},
   "source": [
    "# <font color=green>Preprocessed data</font>"
   ]
  },
  {
   "cell_type": "code",
   "execution_count": null,
   "metadata": {},
   "outputs": [],
   "source": [
    "# Data Frame with Train preprocessed data\n",
    "df_train = pd.read_csv(f'{project_path}/Output/Cleaned_train_data.csv', index_col=0)\n",
    "# Data Frame with Test preprocessed data\n",
    "# df_test = pd.read_csv(f'{project_path}/Output/Cleaned_test_data.csv', index_col=0)\n",
    "df_train.head()"
   ]
  },
  {
   "cell_type": "code",
   "execution_count": null,
   "metadata": {},
   "outputs": [],
   "source": [
    "df_train['text'] = df_train.Preprocessed_text.apply(lambda x: x.replace(\"'\", \"\").replace(\", \", \" \").replace('[', '').replace(']', ''))\n",
    "# df_test['text'] = df_test.Preprocessed_text.apply(lambda x: x.replace(\"'\", \"\").replace(\", \", \" \").replace('[', '').replace(']', ''))"
   ]
  },
  {
   "cell_type": "code",
   "execution_count": null,
   "metadata": {},
   "outputs": [],
   "source": [
    "# Create the TF-IDF vectorizer\n",
    "vectorizer = TfidfVectorizer()"
   ]
  },
  {
   "cell_type": "code",
   "execution_count": null,
   "metadata": {},
   "outputs": [],
   "source": [
    "# Vectorize the sentences\n",
    "X_train = vectorizer.fit_transform(df_train['text'])\n",
    "# X_test = vectorizer.fit_transform(df_test['text'])\n",
    "y_train = df_train.target.values"
   ]
  },
  {
   "attachments": {},
   "cell_type": "markdown",
   "metadata": {},
   "source": [
    "---"
   ]
  },
  {
   "cell_type": "code",
   "execution_count": null,
   "metadata": {},
   "outputs": [],
   "source": [
    "test_size = 0.2 # proportion of the data to include in the test set\n",
    "random_state = 18 # random seed for reproducibility\n",
    "X_train1, X_test1, y_train1, y_test1 = train_test_split(X_train, y_train, test_size=test_size, random_state=random_state)"
   ]
  },
  {
   "cell_type": "code",
   "execution_count": null,
   "metadata": {},
   "outputs": [],
   "source": [
    "# Train a logistic regression model on the vectorized data\n",
    "clf = LogisticRegression(random_state=0, solver='liblinear').fit(X_train1, y_train1)"
   ]
  },
  {
   "cell_type": "code",
   "execution_count": null,
   "metadata": {},
   "outputs": [],
   "source": [
    "# Make a prediction on new data\n",
    "y_pred = clf.predict(X_test1)"
   ]
  },
  {
   "cell_type": "code",
   "execution_count": null,
   "metadata": {},
   "outputs": [],
   "source": [
    "print('Classification report:\\n\\n', classification_report(y_test1, y_pred))\n",
    "print(\"\\nROC AUC score:\", round(roc_auc_score(y_test1, y_pred), 3))"
   ]
  },
  {
   "cell_type": "code",
   "execution_count": null,
   "metadata": {},
   "outputs": [],
   "source": []
  }
 ],
 "metadata": {
  "kernelspec": {
   "display_name": "Python 3",
   "language": "python",
   "name": "python3"
  },
  "language_info": {
   "codemirror_mode": {
    "name": "ipython",
    "version": 3
   },
   "file_extension": ".py",
   "mimetype": "text/x-python",
   "name": "python",
   "nbconvert_exporter": "python",
   "pygments_lexer": "ipython3",
   "version": "3.9.6"
  },
  "orig_nbformat": 4
 },
 "nbformat": 4,
 "nbformat_minor": 2
}
