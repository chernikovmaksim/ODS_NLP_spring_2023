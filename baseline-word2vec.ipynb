{
 "cells": [
  {
   "cell_type": "code",
   "execution_count": 1,
   "id": "a2cd7437",
   "metadata": {
    "_cell_guid": "b1076dfc-b9ad-4769-8c92-a6c4dae69d19",
    "_uuid": "8f2839f25d086af736a60e9eeb907d3b93b6e0e5",
    "execution": {
     "iopub.execute_input": "2023-05-03T20:24:05.749749Z",
     "iopub.status.busy": "2023-05-03T20:24:05.749213Z",
     "iopub.status.idle": "2023-05-03T20:24:08.192865Z",
     "shell.execute_reply": "2023-05-03T20:24:08.191494Z"
    },
    "papermill": {
     "duration": 2.453461,
     "end_time": "2023-05-03T20:24:08.195502",
     "exception": false,
     "start_time": "2023-05-03T20:24:05.742041",
     "status": "completed"
    },
    "tags": []
   },
   "outputs": [
    {
     "name": "stderr",
     "output_type": "stream",
     "text": [
      "/opt/conda/lib/python3.10/site-packages/scipy/__init__.py:146: UserWarning: A NumPy version >=1.16.5 and <1.23.0 is required for this version of SciPy (detected version 1.23.5\n",
      "  warnings.warn(f\"A NumPy version >={np_minversion} and <{np_maxversion}\"\n"
     ]
    },
    {
     "name": "stdout",
     "output_type": "stream",
     "text": [
      "/kaggle/input/quora-insincere-questions-classification/sample_submission.csv\n",
      "/kaggle/input/quora-insincere-questions-classification/embeddings.zip\n",
      "/kaggle/input/quora-insincere-questions-classification/train.csv\n",
      "/kaggle/input/quora-insincere-questions-classification/test.csv\n"
     ]
    }
   ],
   "source": [
    "# This Python 3 environment comes with many helpful analytics libraries installed\n",
    "# It is defined by the kaggle/python Docker image: https://github.com/kaggle/docker-python\n",
    "# For example, here's several helpful packages to load\n",
    "\n",
    "import numpy as np # linear algebra\n",
    "import pandas as pd # data processing, CSV file I/O (e.g. pd.read_csv)\n",
    "\n",
    "import string\n",
    "# Libraries to drop english words and tokenize the text\n",
    "import nltk\n",
    "from nltk.corpus import stopwords\n",
    "from nltk.tokenize import word_tokenize\n",
    "from nltk.stem.wordnet import WordNetLemmatizer\n",
    "from nltk.corpus import wordnet\n",
    "\n",
    "from gensim.models import Word2Vec\n",
    "from sklearn.linear_model import LogisticRegression\n",
    "\n",
    "import os\n",
    "for dirname, _, filenames in os.walk('/kaggle/input'):\n",
    "    for filename in filenames:\n",
    "        print(os.path.join(dirname, filename))"
   ]
  },
  {
   "cell_type": "code",
   "execution_count": 2,
   "id": "56c5f750",
   "metadata": {
    "execution": {
     "iopub.execute_input": "2023-05-03T20:24:08.208312Z",
     "iopub.status.busy": "2023-05-03T20:24:08.207919Z",
     "iopub.status.idle": "2023-05-03T20:24:09.702374Z",
     "shell.execute_reply": "2023-05-03T20:24:09.700874Z"
    },
    "papermill": {
     "duration": 1.504197,
     "end_time": "2023-05-03T20:24:09.705027",
     "exception": false,
     "start_time": "2023-05-03T20:24:08.200830",
     "status": "completed"
    },
    "tags": []
   },
   "outputs": [
    {
     "name": "stdout",
     "output_type": "stream",
     "text": [
      "Archive:  /usr/share/nltk_data/corpora/wordnet.zip\r\n",
      "   creating: /usr/share/nltk_data/corpora/wordnet/\r\n",
      "  inflating: /usr/share/nltk_data/corpora/wordnet/lexnames  \r\n",
      "  inflating: /usr/share/nltk_data/corpora/wordnet/data.verb  \r\n",
      "  inflating: /usr/share/nltk_data/corpora/wordnet/index.adv  \r\n",
      "  inflating: /usr/share/nltk_data/corpora/wordnet/adv.exc  \r\n",
      "  inflating: /usr/share/nltk_data/corpora/wordnet/index.verb  \r\n",
      "  inflating: /usr/share/nltk_data/corpora/wordnet/cntlist.rev  \r\n",
      "  inflating: /usr/share/nltk_data/corpora/wordnet/data.adj  \r\n",
      "  inflating: /usr/share/nltk_data/corpora/wordnet/index.adj  \r\n",
      "  inflating: /usr/share/nltk_data/corpora/wordnet/LICENSE  \r\n",
      "  inflating: /usr/share/nltk_data/corpora/wordnet/citation.bib  \r\n",
      "  inflating: /usr/share/nltk_data/corpora/wordnet/noun.exc  \r\n",
      "  inflating: /usr/share/nltk_data/corpora/wordnet/verb.exc  \r\n",
      "  inflating: /usr/share/nltk_data/corpora/wordnet/README  \r\n",
      "  inflating: /usr/share/nltk_data/corpora/wordnet/index.sense  \r\n",
      "  inflating: /usr/share/nltk_data/corpora/wordnet/data.noun  \r\n",
      "  inflating: /usr/share/nltk_data/corpora/wordnet/data.adv  \r\n",
      "  inflating: /usr/share/nltk_data/corpora/wordnet/index.noun  \r\n",
      "  inflating: /usr/share/nltk_data/corpora/wordnet/adj.exc  \r\n"
     ]
    }
   ],
   "source": [
    "!unzip /usr/share/nltk_data/corpora/wordnet.zip -d /usr/share/nltk_data/corpora"
   ]
  },
  {
   "cell_type": "markdown",
   "id": "6d41befe",
   "metadata": {
    "papermill": {
     "duration": 0.00511,
     "end_time": "2023-05-03T20:24:09.715878",
     "exception": false,
     "start_time": "2023-05-03T20:24:09.710768",
     "status": "completed"
    },
    "tags": []
   },
   "source": [
    "---\n",
    "# <font color=green>Preprocess the data</font>"
   ]
  },
  {
   "cell_type": "code",
   "execution_count": 3,
   "id": "861345b1",
   "metadata": {
    "execution": {
     "iopub.execute_input": "2023-05-03T20:24:09.729908Z",
     "iopub.status.busy": "2023-05-03T20:24:09.729506Z",
     "iopub.status.idle": "2023-05-03T20:24:16.366222Z",
     "shell.execute_reply": "2023-05-03T20:24:16.364817Z"
    },
    "papermill": {
     "duration": 6.647391,
     "end_time": "2023-05-03T20:24:16.368890",
     "exception": false,
     "start_time": "2023-05-03T20:24:09.721499",
     "status": "completed"
    },
    "tags": []
   },
   "outputs": [],
   "source": [
    "# DataFrame with Test data\n",
    "test_df = pd.read_csv(f'/kaggle/input/quora-insincere-questions-classification/test.csv')\n",
    "# DataFrame with Train Data\n",
    "train_df = pd.read_csv(f'/kaggle/input/quora-insincere-questions-classification/train.csv')"
   ]
  },
  {
   "cell_type": "code",
   "execution_count": 4,
   "id": "51756976",
   "metadata": {
    "execution": {
     "iopub.execute_input": "2023-05-03T20:24:16.382460Z",
     "iopub.status.busy": "2023-05-03T20:24:16.382052Z",
     "iopub.status.idle": "2023-05-03T20:24:16.391810Z",
     "shell.execute_reply": "2023-05-03T20:24:16.390592Z"
    },
    "papermill": {
     "duration": 0.019802,
     "end_time": "2023-05-03T20:24:16.394448",
     "exception": false,
     "start_time": "2023-05-03T20:24:16.374646",
     "status": "completed"
    },
    "tags": []
   },
   "outputs": [],
   "source": [
    "#  The Function for text preprocessing\n",
    "def tokenize_string(text):\n",
    "\n",
    "    # Before lemmatizing replace all constructions with normal words\n",
    "#     text_upd = contractions.fix(text)\n",
    "\n",
    "    # Tokenize the data and use only lower letters\n",
    "    words = word_tokenize(text.lower())\n",
    "    \n",
    "    # Create a lemmatizer object\n",
    "    lemmatizer = WordNetLemmatizer()\n",
    "    lemmas = [lemmatizer.lemmatize(word, pos = \"v\") for word in words] \n",
    "    \n",
    "    # # Get rid of punctuation\n",
    "    words = [word for word in lemmas if word not in string.punctuation]\n",
    "    \n",
    "    # Remove stop words\n",
    "    # Stop words corpus (179 in total)\n",
    "    stop_words = set(stopwords.words('english'))\n",
    "    words = [word for word in words if word not in stop_words]\n",
    "    \n",
    "    return words"
   ]
  },
  {
   "cell_type": "code",
   "execution_count": 5,
   "id": "934d20d3",
   "metadata": {
    "execution": {
     "iopub.execute_input": "2023-05-03T20:24:16.407719Z",
     "iopub.status.busy": "2023-05-03T20:24:16.406770Z",
     "iopub.status.idle": "2023-05-03T20:35:59.107725Z",
     "shell.execute_reply": "2023-05-03T20:35:59.106283Z"
    },
    "papermill": {
     "duration": 702.710664,
     "end_time": "2023-05-03T20:35:59.110720",
     "exception": false,
     "start_time": "2023-05-03T20:24:16.400056",
     "status": "completed"
    },
    "tags": []
   },
   "outputs": [
    {
     "name": "stdout",
     "output_type": "stream",
     "text": [
      "I have just started updatind train_df\n",
      "I have just started updatind test_df\n"
     ]
    }
   ],
   "source": [
    "# Tokenizing the series for train data\n",
    "print('I have just started updatind train_df')\n",
    "train_df['Preprocessed_text'] = train_df.question_text.apply(tokenize_string)\n",
    "\n",
    "# Tokenizing the series for test data\n",
    "print('I have just started updatind test_df')\n",
    "test_df['Preprocessed_text'] = test_df.question_text.apply(tokenize_string)"
   ]
  },
  {
   "cell_type": "code",
   "execution_count": 6,
   "id": "c2778a12",
   "metadata": {
    "execution": {
     "iopub.execute_input": "2023-05-03T20:35:59.124200Z",
     "iopub.status.busy": "2023-05-03T20:35:59.123822Z",
     "iopub.status.idle": "2023-05-03T20:35:59.129609Z",
     "shell.execute_reply": "2023-05-03T20:35:59.128384Z"
    },
    "papermill": {
     "duration": 0.015144,
     "end_time": "2023-05-03T20:35:59.131943",
     "exception": false,
     "start_time": "2023-05-03T20:35:59.116799",
     "status": "completed"
    },
    "tags": []
   },
   "outputs": [],
   "source": [
    "y_train = train_df.target.values"
   ]
  },
  {
   "cell_type": "code",
   "execution_count": 7,
   "id": "dc47e754",
   "metadata": {
    "execution": {
     "iopub.execute_input": "2023-05-03T20:35:59.145876Z",
     "iopub.status.busy": "2023-05-03T20:35:59.144631Z",
     "iopub.status.idle": "2023-05-03T20:35:59.156472Z",
     "shell.execute_reply": "2023-05-03T20:35:59.155377Z"
    },
    "papermill": {
     "duration": 0.021062,
     "end_time": "2023-05-03T20:35:59.158754",
     "exception": false,
     "start_time": "2023-05-03T20:35:59.137692",
     "status": "completed"
    },
    "tags": []
   },
   "outputs": [
    {
     "data": {
      "text/plain": [
       "0    [quebec, nationalists, see, province, nation, ...\n",
       "1    [adopt, dog, would, encourage, people, adopt, ...\n",
       "2    [velocity, affect, time, velocity, affect, spa...\n",
       "3    [otto, von, guericke, use, magdeburg, hemisphe...\n",
       "4    [convert, montra, helicon, mountain, bike, cha...\n",
       "Name: Preprocessed_text, dtype: object"
      ]
     },
     "execution_count": 7,
     "metadata": {},
     "output_type": "execute_result"
    }
   ],
   "source": [
    "train_df['Preprocessed_text'].head()"
   ]
  },
  {
   "cell_type": "code",
   "execution_count": 8,
   "id": "26641f1e",
   "metadata": {
    "execution": {
     "iopub.execute_input": "2023-05-03T20:35:59.173153Z",
     "iopub.status.busy": "2023-05-03T20:35:59.172063Z",
     "iopub.status.idle": "2023-05-03T20:36:57.515731Z",
     "shell.execute_reply": "2023-05-03T20:36:57.514183Z"
    },
    "papermill": {
     "duration": 58.354183,
     "end_time": "2023-05-03T20:36:57.518501",
     "exception": false,
     "start_time": "2023-05-03T20:35:59.164318",
     "status": "completed"
    },
    "tags": []
   },
   "outputs": [],
   "source": [
    "word2vec_model = Word2Vec(train_df['Preprocessed_text'], vector_size=100, window=5, min_count=3)"
   ]
  },
  {
   "cell_type": "code",
   "execution_count": 9,
   "id": "9c175441",
   "metadata": {
    "execution": {
     "iopub.execute_input": "2023-05-03T20:36:57.531626Z",
     "iopub.status.busy": "2023-05-03T20:36:57.531246Z",
     "iopub.status.idle": "2023-05-03T20:36:57.537305Z",
     "shell.execute_reply": "2023-05-03T20:36:57.536195Z"
    },
    "papermill": {
     "duration": 0.014997,
     "end_time": "2023-05-03T20:36:57.539252",
     "exception": false,
     "start_time": "2023-05-03T20:36:57.524255",
     "status": "completed"
    },
    "tags": []
   },
   "outputs": [],
   "source": [
    "# Function for preprocessing the whole phrase instead of separate phrases\n",
    "def phrase_vector(word2vec_model, phrase):\n",
    "    phrase = [word for word in phrase if word in word2vec_model.wv.key_to_index]\n",
    "    \n",
    "    if len(phrase) == 0:\n",
    "        return np.zeros(word2vec_model.vector_size)\n",
    "    \n",
    "    return np.mean(word2vec_model.wv[phrase], axis=0)"
   ]
  },
  {
   "cell_type": "code",
   "execution_count": 10,
   "id": "94fdd902",
   "metadata": {
    "execution": {
     "iopub.execute_input": "2023-05-03T20:36:57.552482Z",
     "iopub.status.busy": "2023-05-03T20:36:57.552099Z",
     "iopub.status.idle": "2023-05-03T20:38:01.401913Z",
     "shell.execute_reply": "2023-05-03T20:38:01.400600Z"
    },
    "papermill": {
     "duration": 63.859935,
     "end_time": "2023-05-03T20:38:01.404810",
     "exception": false,
     "start_time": "2023-05-03T20:36:57.544875",
     "status": "completed"
    },
    "tags": []
   },
   "outputs": [],
   "source": [
    "# Applying the function\n",
    "X_train_vec = np.array([phrase_vector(word2vec_model, phrase) for phrase in train_df['Preprocessed_text']])\n",
    "X_test_vec = np.array([phrase_vector(word2vec_model, phrase) for phrase in test_df['Preprocessed_text']])"
   ]
  },
  {
   "cell_type": "markdown",
   "id": "f3f3bd9f",
   "metadata": {
    "papermill": {
     "duration": 0.005343,
     "end_time": "2023-05-03T20:38:01.416124",
     "exception": false,
     "start_time": "2023-05-03T20:38:01.410781",
     "status": "completed"
    },
    "tags": []
   },
   "source": [
    "---\n",
    "# <font color=green>Creating baseline model based on Logistic Regression</font>"
   ]
  },
  {
   "cell_type": "code",
   "execution_count": 11,
   "id": "d115af47",
   "metadata": {
    "execution": {
     "iopub.execute_input": "2023-05-03T20:38:01.429253Z",
     "iopub.status.busy": "2023-05-03T20:38:01.428820Z",
     "iopub.status.idle": "2023-05-03T20:38:19.102229Z",
     "shell.execute_reply": "2023-05-03T20:38:19.100646Z"
    },
    "papermill": {
     "duration": 17.684676,
     "end_time": "2023-05-03T20:38:19.106533",
     "exception": false,
     "start_time": "2023-05-03T20:38:01.421857",
     "status": "completed"
    },
    "tags": []
   },
   "outputs": [
    {
     "data": {
      "text/html": [
       "<style>#sk-container-id-1 {color: black;background-color: white;}#sk-container-id-1 pre{padding: 0;}#sk-container-id-1 div.sk-toggleable {background-color: white;}#sk-container-id-1 label.sk-toggleable__label {cursor: pointer;display: block;width: 100%;margin-bottom: 0;padding: 0.3em;box-sizing: border-box;text-align: center;}#sk-container-id-1 label.sk-toggleable__label-arrow:before {content: \"▸\";float: left;margin-right: 0.25em;color: #696969;}#sk-container-id-1 label.sk-toggleable__label-arrow:hover:before {color: black;}#sk-container-id-1 div.sk-estimator:hover label.sk-toggleable__label-arrow:before {color: black;}#sk-container-id-1 div.sk-toggleable__content {max-height: 0;max-width: 0;overflow: hidden;text-align: left;background-color: #f0f8ff;}#sk-container-id-1 div.sk-toggleable__content pre {margin: 0.2em;color: black;border-radius: 0.25em;background-color: #f0f8ff;}#sk-container-id-1 input.sk-toggleable__control:checked~div.sk-toggleable__content {max-height: 200px;max-width: 100%;overflow: auto;}#sk-container-id-1 input.sk-toggleable__control:checked~label.sk-toggleable__label-arrow:before {content: \"▾\";}#sk-container-id-1 div.sk-estimator input.sk-toggleable__control:checked~label.sk-toggleable__label {background-color: #d4ebff;}#sk-container-id-1 div.sk-label input.sk-toggleable__control:checked~label.sk-toggleable__label {background-color: #d4ebff;}#sk-container-id-1 input.sk-hidden--visually {border: 0;clip: rect(1px 1px 1px 1px);clip: rect(1px, 1px, 1px, 1px);height: 1px;margin: -1px;overflow: hidden;padding: 0;position: absolute;width: 1px;}#sk-container-id-1 div.sk-estimator {font-family: monospace;background-color: #f0f8ff;border: 1px dotted black;border-radius: 0.25em;box-sizing: border-box;margin-bottom: 0.5em;}#sk-container-id-1 div.sk-estimator:hover {background-color: #d4ebff;}#sk-container-id-1 div.sk-parallel-item::after {content: \"\";width: 100%;border-bottom: 1px solid gray;flex-grow: 1;}#sk-container-id-1 div.sk-label:hover label.sk-toggleable__label {background-color: #d4ebff;}#sk-container-id-1 div.sk-serial::before {content: \"\";position: absolute;border-left: 1px solid gray;box-sizing: border-box;top: 0;bottom: 0;left: 50%;z-index: 0;}#sk-container-id-1 div.sk-serial {display: flex;flex-direction: column;align-items: center;background-color: white;padding-right: 0.2em;padding-left: 0.2em;position: relative;}#sk-container-id-1 div.sk-item {position: relative;z-index: 1;}#sk-container-id-1 div.sk-parallel {display: flex;align-items: stretch;justify-content: center;background-color: white;position: relative;}#sk-container-id-1 div.sk-item::before, #sk-container-id-1 div.sk-parallel-item::before {content: \"\";position: absolute;border-left: 1px solid gray;box-sizing: border-box;top: 0;bottom: 0;left: 50%;z-index: -1;}#sk-container-id-1 div.sk-parallel-item {display: flex;flex-direction: column;z-index: 1;position: relative;background-color: white;}#sk-container-id-1 div.sk-parallel-item:first-child::after {align-self: flex-end;width: 50%;}#sk-container-id-1 div.sk-parallel-item:last-child::after {align-self: flex-start;width: 50%;}#sk-container-id-1 div.sk-parallel-item:only-child::after {width: 0;}#sk-container-id-1 div.sk-dashed-wrapped {border: 1px dashed gray;margin: 0 0.4em 0.5em 0.4em;box-sizing: border-box;padding-bottom: 0.4em;background-color: white;}#sk-container-id-1 div.sk-label label {font-family: monospace;font-weight: bold;display: inline-block;line-height: 1.2em;}#sk-container-id-1 div.sk-label-container {text-align: center;}#sk-container-id-1 div.sk-container {/* jupyter's `normalize.less` sets `[hidden] { display: none; }` but bootstrap.min.css set `[hidden] { display: none !important; }` so we also need the `!important` here to be able to override the default hidden behavior on the sphinx rendered scikit-learn.org. See: https://github.com/scikit-learn/scikit-learn/issues/21755 */display: inline-block !important;position: relative;}#sk-container-id-1 div.sk-text-repr-fallback {display: none;}</style><div id=\"sk-container-id-1\" class=\"sk-top-container\"><div class=\"sk-text-repr-fallback\"><pre>LogisticRegression()</pre><b>In a Jupyter environment, please rerun this cell to show the HTML representation or trust the notebook. <br />On GitHub, the HTML representation is unable to render, please try loading this page with nbviewer.org.</b></div><div class=\"sk-container\" hidden><div class=\"sk-item\"><div class=\"sk-estimator sk-toggleable\"><input class=\"sk-toggleable__control sk-hidden--visually\" id=\"sk-estimator-id-1\" type=\"checkbox\" checked><label for=\"sk-estimator-id-1\" class=\"sk-toggleable__label sk-toggleable__label-arrow\">LogisticRegression</label><div class=\"sk-toggleable__content\"><pre>LogisticRegression()</pre></div></div></div></div></div>"
      ],
      "text/plain": [
       "LogisticRegression()"
      ]
     },
     "execution_count": 11,
     "metadata": {},
     "output_type": "execute_result"
    }
   ],
   "source": [
    "log_reg = LogisticRegression()\n",
    "log_reg.fit(X_train_vec, y_train)"
   ]
  },
  {
   "cell_type": "code",
   "execution_count": 12,
   "id": "a3e94be9",
   "metadata": {
    "execution": {
     "iopub.execute_input": "2023-05-03T20:38:19.142340Z",
     "iopub.status.busy": "2023-05-03T20:38:19.141165Z",
     "iopub.status.idle": "2023-05-03T20:38:19.223385Z",
     "shell.execute_reply": "2023-05-03T20:38:19.221824Z"
    },
    "papermill": {
     "duration": 0.106807,
     "end_time": "2023-05-03T20:38:19.228640",
     "exception": false,
     "start_time": "2023-05-03T20:38:19.121833",
     "status": "completed"
    },
    "tags": []
   },
   "outputs": [],
   "source": [
    "# Make a prediction with new data\n",
    "y_pred = log_reg.predict(X_test_vec)"
   ]
  },
  {
   "cell_type": "markdown",
   "id": "1d1f14c1",
   "metadata": {
    "papermill": {
     "duration": 0.015698,
     "end_time": "2023-05-03T20:38:19.259722",
     "exception": false,
     "start_time": "2023-05-03T20:38:19.244024",
     "status": "completed"
    },
    "tags": []
   },
   "source": [
    "---\n",
    "# <font color=green>Creating baseline model based on Catboost</font>"
   ]
  },
  {
   "cell_type": "code",
   "execution_count": 13,
   "id": "68a4c09c",
   "metadata": {
    "execution": {
     "iopub.execute_input": "2023-05-03T20:38:19.293905Z",
     "iopub.status.busy": "2023-05-03T20:38:19.293030Z",
     "iopub.status.idle": "2023-05-03T20:38:19.301276Z",
     "shell.execute_reply": "2023-05-03T20:38:19.299448Z"
    },
    "papermill": {
     "duration": 0.032201,
     "end_time": "2023-05-03T20:38:19.308396",
     "exception": false,
     "start_time": "2023-05-03T20:38:19.276195",
     "status": "completed"
    },
    "tags": []
   },
   "outputs": [],
   "source": [
    "# model = CatBoostClassifier(iterations=10000, learning_rate=0.1, depth=6, loss_function='Logloss', random_seed=42)\n",
    "# model.fit(X_train, y_train, verbose=10)"
   ]
  },
  {
   "cell_type": "code",
   "execution_count": 14,
   "id": "df19016d",
   "metadata": {
    "execution": {
     "iopub.execute_input": "2023-05-03T20:38:19.337942Z",
     "iopub.status.busy": "2023-05-03T20:38:19.337577Z",
     "iopub.status.idle": "2023-05-03T20:38:19.342021Z",
     "shell.execute_reply": "2023-05-03T20:38:19.340843Z"
    },
    "papermill": {
     "duration": 0.020554,
     "end_time": "2023-05-03T20:38:19.344382",
     "exception": false,
     "start_time": "2023-05-03T20:38:19.323828",
     "status": "completed"
    },
    "tags": []
   },
   "outputs": [],
   "source": [
    "# y_pred = model.predict(X_test)"
   ]
  },
  {
   "cell_type": "code",
   "execution_count": 15,
   "id": "427271ba",
   "metadata": {
    "execution": {
     "iopub.execute_input": "2023-05-03T20:38:19.359260Z",
     "iopub.status.busy": "2023-05-03T20:38:19.358485Z",
     "iopub.status.idle": "2023-05-03T20:38:19.363622Z",
     "shell.execute_reply": "2023-05-03T20:38:19.362760Z"
    },
    "papermill": {
     "duration": 0.015071,
     "end_time": "2023-05-03T20:38:19.365988",
     "exception": false,
     "start_time": "2023-05-03T20:38:19.350917",
     "status": "completed"
    },
    "tags": []
   },
   "outputs": [],
   "source": [
    "# y_pred = y_pred.ravel()"
   ]
  },
  {
   "cell_type": "markdown",
   "id": "552300a8",
   "metadata": {
    "papermill": {
     "duration": 0.005745,
     "end_time": "2023-05-03T20:38:19.377920",
     "exception": false,
     "start_time": "2023-05-03T20:38:19.372175",
     "status": "completed"
    },
    "tags": []
   },
   "source": [
    "---\n",
    "# <font color=green>Making the final file</font>"
   ]
  },
  {
   "cell_type": "code",
   "execution_count": 16,
   "id": "8758c1db",
   "metadata": {
    "execution": {
     "iopub.execute_input": "2023-05-03T20:38:19.392063Z",
     "iopub.status.busy": "2023-05-03T20:38:19.391267Z",
     "iopub.status.idle": "2023-05-03T20:38:19.748853Z",
     "shell.execute_reply": "2023-05-03T20:38:19.747484Z"
    },
    "papermill": {
     "duration": 0.36771,
     "end_time": "2023-05-03T20:38:19.751598",
     "exception": false,
     "start_time": "2023-05-03T20:38:19.383888",
     "status": "completed"
    },
    "tags": []
   },
   "outputs": [],
   "source": [
    "pd.DataFrame({'qid': test_df.qid, 'prediction': y_pred}).set_index('qid').to_csv('submission.csv')"
   ]
  },
  {
   "cell_type": "code",
   "execution_count": null,
   "id": "f28845bd",
   "metadata": {
    "papermill": {
     "duration": 0.005807,
     "end_time": "2023-05-03T20:38:19.763891",
     "exception": false,
     "start_time": "2023-05-03T20:38:19.758084",
     "status": "completed"
    },
    "tags": []
   },
   "outputs": [],
   "source": []
  }
 ],
 "metadata": {
  "kernelspec": {
   "display_name": "Python 3",
   "language": "python",
   "name": "python3"
  },
  "language_info": {
   "codemirror_mode": {
    "name": "ipython",
    "version": 3
   },
   "file_extension": ".py",
   "mimetype": "text/x-python",
   "name": "python",
   "nbconvert_exporter": "python",
   "pygments_lexer": "ipython3",
   "version": "3.10.10"
  },
  "papermill": {
   "default_parameters": {},
   "duration": 870.970857,
   "end_time": "2023-05-03T20:38:22.392103",
   "environment_variables": {},
   "exception": null,
   "input_path": "__notebook__.ipynb",
   "output_path": "__notebook__.ipynb",
   "parameters": {},
   "start_time": "2023-05-03T20:23:51.421246",
   "version": "2.4.0"
  }
 },
 "nbformat": 4,
 "nbformat_minor": 5
}
