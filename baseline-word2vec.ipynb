{
 "cells": [
  {
   "cell_type": "code",
   "execution_count": 1,
   "id": "1a4e69f6",
   "metadata": {
    "_cell_guid": "b1076dfc-b9ad-4769-8c92-a6c4dae69d19",
    "_uuid": "8f2839f25d086af736a60e9eeb907d3b93b6e0e5",
    "execution": {
     "iopub.execute_input": "2023-05-08T18:43:11.972882Z",
     "iopub.status.busy": "2023-05-08T18:43:11.972552Z",
     "iopub.status.idle": "2023-05-08T18:43:13.937097Z",
     "shell.execute_reply": "2023-05-08T18:43:13.936166Z"
    },
    "papermill": {
     "duration": 1.973789,
     "end_time": "2023-05-08T18:43:13.939193",
     "exception": false,
     "start_time": "2023-05-08T18:43:11.965404",
     "status": "completed"
    },
    "tags": []
   },
   "outputs": [
    {
     "name": "stderr",
     "output_type": "stream",
     "text": [
      "/opt/conda/lib/python3.10/site-packages/scipy/__init__.py:146: UserWarning: A NumPy version >=1.16.5 and <1.23.0 is required for this version of SciPy (detected version 1.23.5\n",
      "  warnings.warn(f\"A NumPy version >={np_minversion} and <{np_maxversion}\"\n"
     ]
    },
    {
     "name": "stdout",
     "output_type": "stream",
     "text": [
      "/kaggle/input/quora-insincere-questions-classification/sample_submission.csv\n",
      "/kaggle/input/quora-insincere-questions-classification/embeddings.zip\n",
      "/kaggle/input/quora-insincere-questions-classification/train.csv\n",
      "/kaggle/input/quora-insincere-questions-classification/test.csv\n"
     ]
    }
   ],
   "source": [
    "# This Python 3 environment comes with many helpful analytics libraries installed\n",
    "# It is defined by the kaggle/python Docker image: https://github.com/kaggle/docker-python\n",
    "# For example, here's several helpful packages to load\n",
    "\n",
    "import numpy as np # linear algebra\n",
    "import pandas as pd # data processing, CSV file I/O (e.g. pd.read_csv)\n",
    "\n",
    "import string\n",
    "# Libraries to drop english words and tokenize the text\n",
    "import nltk\n",
    "from nltk.corpus import stopwords\n",
    "from nltk.tokenize import word_tokenize\n",
    "from nltk.stem.wordnet import WordNetLemmatizer\n",
    "from nltk.corpus import wordnet\n",
    "\n",
    "from gensim.models import Word2Vec\n",
    "from sklearn.linear_model import LogisticRegression\n",
    "\n",
    "from catboost import CatBoostClassifier\n",
    "\n",
    "import os\n",
    "for dirname, _, filenames in os.walk('/kaggle/input'):\n",
    "    for filename in filenames:\n",
    "        print(os.path.join(dirname, filename))"
   ]
  },
  {
   "cell_type": "code",
   "execution_count": 2,
   "id": "bf39c29d",
   "metadata": {
    "execution": {
     "iopub.execute_input": "2023-05-08T18:43:13.949717Z",
     "iopub.status.busy": "2023-05-08T18:43:13.948861Z",
     "iopub.status.idle": "2023-05-08T18:43:15.188054Z",
     "shell.execute_reply": "2023-05-08T18:43:15.186971Z"
    },
    "papermill": {
     "duration": 1.246604,
     "end_time": "2023-05-08T18:43:15.190300",
     "exception": false,
     "start_time": "2023-05-08T18:43:13.943696",
     "status": "completed"
    },
    "tags": []
   },
   "outputs": [
    {
     "name": "stdout",
     "output_type": "stream",
     "text": [
      "Archive:  /usr/share/nltk_data/corpora/wordnet.zip\r\n",
      "   creating: /usr/share/nltk_data/corpora/wordnet/\r\n",
      "  inflating: /usr/share/nltk_data/corpora/wordnet/lexnames  \r\n",
      "  inflating: /usr/share/nltk_data/corpora/wordnet/data.verb  \r\n",
      "  inflating: /usr/share/nltk_data/corpora/wordnet/index.adv  \r\n",
      "  inflating: /usr/share/nltk_data/corpora/wordnet/adv.exc  \r\n",
      "  inflating: /usr/share/nltk_data/corpora/wordnet/index.verb  \r\n",
      "  inflating: /usr/share/nltk_data/corpora/wordnet/cntlist.rev  \r\n",
      "  inflating: /usr/share/nltk_data/corpora/wordnet/data.adj  \r\n",
      "  inflating: /usr/share/nltk_data/corpora/wordnet/index.adj  \r\n",
      "  inflating: /usr/share/nltk_data/corpora/wordnet/LICENSE  \r\n",
      "  inflating: /usr/share/nltk_data/corpora/wordnet/citation.bib  \r\n",
      "  inflating: /usr/share/nltk_data/corpora/wordnet/noun.exc  \r\n",
      "  inflating: /usr/share/nltk_data/corpora/wordnet/verb.exc  \r\n",
      "  inflating: /usr/share/nltk_data/corpora/wordnet/README  \r\n",
      "  inflating: /usr/share/nltk_data/corpora/wordnet/index.sense  \r\n",
      "  inflating: /usr/share/nltk_data/corpora/wordnet/data.noun  \r\n",
      "  inflating: /usr/share/nltk_data/corpora/wordnet/data.adv  \r\n",
      "  inflating: /usr/share/nltk_data/corpora/wordnet/index.noun  \r\n",
      "  inflating: /usr/share/nltk_data/corpora/wordnet/adj.exc  \r\n"
     ]
    }
   ],
   "source": [
    "!unzip /usr/share/nltk_data/corpora/wordnet.zip -d /usr/share/nltk_data/corpora"
   ]
  },
  {
   "cell_type": "markdown",
   "id": "250ffac6",
   "metadata": {
    "papermill": {
     "duration": 0.004196,
     "end_time": "2023-05-08T18:43:15.199003",
     "exception": false,
     "start_time": "2023-05-08T18:43:15.194807",
     "status": "completed"
    },
    "tags": []
   },
   "source": [
    "---\n",
    "# <font color=green>Preprocess the data</font>"
   ]
  },
  {
   "cell_type": "code",
   "execution_count": 3,
   "id": "9523d3c1",
   "metadata": {
    "execution": {
     "iopub.execute_input": "2023-05-08T18:43:15.209019Z",
     "iopub.status.busy": "2023-05-08T18:43:15.208730Z",
     "iopub.status.idle": "2023-05-08T18:43:20.286010Z",
     "shell.execute_reply": "2023-05-08T18:43:20.285086Z"
    },
    "papermill": {
     "duration": 5.085046,
     "end_time": "2023-05-08T18:43:20.288291",
     "exception": false,
     "start_time": "2023-05-08T18:43:15.203245",
     "status": "completed"
    },
    "tags": []
   },
   "outputs": [],
   "source": [
    "# DataFrame with Test data\n",
    "test_df = pd.read_csv(f'/kaggle/input/quora-insincere-questions-classification/test.csv')\n",
    "# DataFrame with Train Data\n",
    "train_df = pd.read_csv(f'/kaggle/input/quora-insincere-questions-classification/train.csv')"
   ]
  },
  {
   "cell_type": "code",
   "execution_count": 4,
   "id": "daeba0a5",
   "metadata": {
    "execution": {
     "iopub.execute_input": "2023-05-08T18:43:20.299895Z",
     "iopub.status.busy": "2023-05-08T18:43:20.298456Z",
     "iopub.status.idle": "2023-05-08T18:43:20.305288Z",
     "shell.execute_reply": "2023-05-08T18:43:20.304474Z"
    },
    "papermill": {
     "duration": 0.014083,
     "end_time": "2023-05-08T18:43:20.307050",
     "exception": false,
     "start_time": "2023-05-08T18:43:20.292967",
     "status": "completed"
    },
    "tags": []
   },
   "outputs": [],
   "source": [
    "#  The Function for text preprocessing\n",
    "def tokenize_string(text):\n",
    "\n",
    "    # Before lemmatizing replace all constructions with normal words\n",
    "#     text_upd = contractions.fix(text)\n",
    "\n",
    "    # Tokenize the data and use only lower letters\n",
    "    words = word_tokenize(text.lower())\n",
    "    \n",
    "    # Create a lemmatizer object\n",
    "    lemmatizer = WordNetLemmatizer()\n",
    "    lemmas = [lemmatizer.lemmatize(word, pos = \"v\") for word in words] \n",
    "    \n",
    "    # # Get rid of punctuation\n",
    "    words = [word for word in lemmas if word not in string.punctuation]\n",
    "    \n",
    "    # Remove stop words\n",
    "    # Stop words corpus (179 in total)\n",
    "    stop_words = set(stopwords.words('english'))\n",
    "    words = [word for word in words if word not in stop_words]\n",
    "    \n",
    "    return words"
   ]
  },
  {
   "cell_type": "code",
   "execution_count": 5,
   "id": "bef5dee9",
   "metadata": {
    "execution": {
     "iopub.execute_input": "2023-05-08T18:43:20.316531Z",
     "iopub.status.busy": "2023-05-08T18:43:20.316266Z",
     "iopub.status.idle": "2023-05-08T18:53:00.234412Z",
     "shell.execute_reply": "2023-05-08T18:53:00.233502Z"
    },
    "papermill": {
     "duration": 579.925467,
     "end_time": "2023-05-08T18:53:00.236763",
     "exception": false,
     "start_time": "2023-05-08T18:43:20.311296",
     "status": "completed"
    },
    "tags": []
   },
   "outputs": [
    {
     "name": "stdout",
     "output_type": "stream",
     "text": [
      "I have just started updatind train_df\n",
      "I have just started updatind test_df\n"
     ]
    }
   ],
   "source": [
    "# Tokenizing the series for train data\n",
    "print('I have just started updatind train_df')\n",
    "train_df['Preprocessed_text'] = train_df.question_text.apply(tokenize_string)\n",
    "\n",
    "# Tokenizing the series for test data\n",
    "print('I have just started updatind test_df')\n",
    "test_df['Preprocessed_text'] = test_df.question_text.apply(tokenize_string)"
   ]
  },
  {
   "cell_type": "code",
   "execution_count": 6,
   "id": "bdefdbae",
   "metadata": {
    "execution": {
     "iopub.execute_input": "2023-05-08T18:53:00.248189Z",
     "iopub.status.busy": "2023-05-08T18:53:00.246830Z",
     "iopub.status.idle": "2023-05-08T18:53:00.252242Z",
     "shell.execute_reply": "2023-05-08T18:53:00.251409Z"
    },
    "papermill": {
     "duration": 0.012508,
     "end_time": "2023-05-08T18:53:00.254051",
     "exception": false,
     "start_time": "2023-05-08T18:53:00.241543",
     "status": "completed"
    },
    "tags": []
   },
   "outputs": [],
   "source": [
    "y_train = train_df.target.values"
   ]
  },
  {
   "cell_type": "code",
   "execution_count": 7,
   "id": "620a378b",
   "metadata": {
    "execution": {
     "iopub.execute_input": "2023-05-08T18:53:00.263880Z",
     "iopub.status.busy": "2023-05-08T18:53:00.263630Z",
     "iopub.status.idle": "2023-05-08T18:53:00.271680Z",
     "shell.execute_reply": "2023-05-08T18:53:00.270803Z"
    },
    "papermill": {
     "duration": 0.015321,
     "end_time": "2023-05-08T18:53:00.273751",
     "exception": false,
     "start_time": "2023-05-08T18:53:00.258430",
     "status": "completed"
    },
    "tags": []
   },
   "outputs": [
    {
     "data": {
      "text/plain": [
       "0    [quebec, nationalists, see, province, nation, ...\n",
       "1    [adopt, dog, would, encourage, people, adopt, ...\n",
       "2    [velocity, affect, time, velocity, affect, spa...\n",
       "3    [otto, von, guericke, use, magdeburg, hemisphe...\n",
       "4    [convert, montra, helicon, mountain, bike, cha...\n",
       "Name: Preprocessed_text, dtype: object"
      ]
     },
     "execution_count": 7,
     "metadata": {},
     "output_type": "execute_result"
    }
   ],
   "source": [
    "train_df['Preprocessed_text'].head()"
   ]
  },
  {
   "cell_type": "code",
   "execution_count": 8,
   "id": "898d950e",
   "metadata": {
    "execution": {
     "iopub.execute_input": "2023-05-08T18:53:00.283936Z",
     "iopub.status.busy": "2023-05-08T18:53:00.283440Z",
     "iopub.status.idle": "2023-05-08T18:54:34.344824Z",
     "shell.execute_reply": "2023-05-08T18:54:34.343213Z"
    },
    "papermill": {
     "duration": 94.070265,
     "end_time": "2023-05-08T18:54:34.348349",
     "exception": false,
     "start_time": "2023-05-08T18:53:00.278084",
     "status": "completed"
    },
    "tags": []
   },
   "outputs": [],
   "source": [
    "word2vec_model = Word2Vec(train_df['Preprocessed_text'], \n",
    "                          vector_size=300, window=5, min_count=3)"
   ]
  },
  {
   "cell_type": "code",
   "execution_count": 9,
   "id": "58e7b324",
   "metadata": {
    "execution": {
     "iopub.execute_input": "2023-05-08T18:54:34.359210Z",
     "iopub.status.busy": "2023-05-08T18:54:34.358943Z",
     "iopub.status.idle": "2023-05-08T18:54:34.363901Z",
     "shell.execute_reply": "2023-05-08T18:54:34.362855Z"
    },
    "papermill": {
     "duration": 0.012207,
     "end_time": "2023-05-08T18:54:34.365732",
     "exception": false,
     "start_time": "2023-05-08T18:54:34.353525",
     "status": "completed"
    },
    "tags": []
   },
   "outputs": [],
   "source": [
    "# Function for preprocessing the whole phrase instead of separate phrases\n",
    "def phrase_vector(word2vec_model, phrase):\n",
    "    phrase = [word for word in phrase if word in word2vec_model.wv.key_to_index]\n",
    "    \n",
    "    if len(phrase) == 0:\n",
    "        return np.zeros(word2vec_model.vector_size)\n",
    "    \n",
    "    return np.mean(word2vec_model.wv[phrase], axis=0)"
   ]
  },
  {
   "cell_type": "code",
   "execution_count": 10,
   "id": "8ddd7382",
   "metadata": {
    "execution": {
     "iopub.execute_input": "2023-05-08T18:54:34.376779Z",
     "iopub.status.busy": "2023-05-08T18:54:34.376012Z",
     "iopub.status.idle": "2023-05-08T18:55:37.538142Z",
     "shell.execute_reply": "2023-05-08T18:55:37.537182Z"
    },
    "papermill": {
     "duration": 63.17029,
     "end_time": "2023-05-08T18:55:37.540449",
     "exception": false,
     "start_time": "2023-05-08T18:54:34.370159",
     "status": "completed"
    },
    "tags": []
   },
   "outputs": [],
   "source": [
    "# Applying the function\n",
    "X_train_vec = np.array([phrase_vector(word2vec_model, phrase) for phrase in train_df['Preprocessed_text']])\n",
    "X_test_vec = np.array([phrase_vector(word2vec_model, phrase) for phrase in test_df['Preprocessed_text']])"
   ]
  },
  {
   "cell_type": "markdown",
   "id": "49d27000",
   "metadata": {
    "papermill": {
     "duration": 0.00438,
     "end_time": "2023-05-08T18:55:37.549795",
     "exception": false,
     "start_time": "2023-05-08T18:55:37.545415",
     "status": "completed"
    },
    "tags": []
   },
   "source": [
    "---\n",
    "# <font color=green>Creating baseline model based on Logistic Regression</font>"
   ]
  },
  {
   "cell_type": "code",
   "execution_count": 11,
   "id": "73f3875e",
   "metadata": {
    "execution": {
     "iopub.execute_input": "2023-05-08T18:55:37.560208Z",
     "iopub.status.busy": "2023-05-08T18:55:37.559931Z",
     "iopub.status.idle": "2023-05-08T18:55:37.564659Z",
     "shell.execute_reply": "2023-05-08T18:55:37.563875Z"
    },
    "papermill": {
     "duration": 0.011921,
     "end_time": "2023-05-08T18:55:37.566370",
     "exception": false,
     "start_time": "2023-05-08T18:55:37.554449",
     "status": "completed"
    },
    "tags": []
   },
   "outputs": [],
   "source": [
    "# log_reg = LogisticRegression(max_iter=10000)\n",
    "# log_reg.fit(X_train_vec, y_train)"
   ]
  },
  {
   "cell_type": "code",
   "execution_count": 12,
   "id": "de3c0f93",
   "metadata": {
    "execution": {
     "iopub.execute_input": "2023-05-08T18:55:37.577112Z",
     "iopub.status.busy": "2023-05-08T18:55:37.576319Z",
     "iopub.status.idle": "2023-05-08T18:55:37.580185Z",
     "shell.execute_reply": "2023-05-08T18:55:37.579376Z"
    },
    "papermill": {
     "duration": 0.011404,
     "end_time": "2023-05-08T18:55:37.582298",
     "exception": false,
     "start_time": "2023-05-08T18:55:37.570894",
     "status": "completed"
    },
    "tags": []
   },
   "outputs": [],
   "source": [
    "# Make a prediction with new data\n",
    "# y_pred = log_reg.predict(X_test_vec)"
   ]
  },
  {
   "cell_type": "markdown",
   "id": "8b5e68b4",
   "metadata": {
    "papermill": {
     "duration": 0.004576,
     "end_time": "2023-05-08T18:55:37.591409",
     "exception": false,
     "start_time": "2023-05-08T18:55:37.586833",
     "status": "completed"
    },
    "tags": []
   },
   "source": [
    "---\n",
    "# <font color=green>Creating baseline model based on Catboost</font>"
   ]
  },
  {
   "cell_type": "code",
   "execution_count": 13,
   "id": "c70cd988",
   "metadata": {
    "execution": {
     "iopub.execute_input": "2023-05-08T18:55:37.601380Z",
     "iopub.status.busy": "2023-05-08T18:55:37.601136Z",
     "iopub.status.idle": "2023-05-08T18:59:41.931719Z",
     "shell.execute_reply": "2023-05-08T18:59:41.930800Z"
    },
    "papermill": {
     "duration": 244.337723,
     "end_time": "2023-05-08T18:59:41.933628",
     "exception": false,
     "start_time": "2023-05-08T18:55:37.595905",
     "status": "completed"
    },
    "tags": []
   },
   "outputs": [
    {
     "name": "stdout",
     "output_type": "stream",
     "text": [
      "0:\tlearn: 0.5404952\ttotal: 41.6ms\tremaining: 8.28s\n",
      "10:\tlearn: 0.1807038\ttotal: 396ms\tremaining: 6.81s\n",
      "20:\tlearn: 0.1521775\ttotal: 733ms\tremaining: 6.25s\n",
      "30:\tlearn: 0.1444338\ttotal: 1.06s\tremaining: 5.8s\n",
      "40:\tlearn: 0.1408216\ttotal: 1.39s\tremaining: 5.39s\n",
      "50:\tlearn: 0.1385497\ttotal: 1.71s\tremaining: 4.99s\n",
      "60:\tlearn: 0.1369433\ttotal: 2.01s\tremaining: 4.59s\n",
      "70:\tlearn: 0.1356904\ttotal: 2.31s\tremaining: 4.21s\n",
      "80:\tlearn: 0.1346816\ttotal: 2.61s\tremaining: 3.83s\n",
      "90:\tlearn: 0.1337942\ttotal: 2.92s\tremaining: 3.5s\n",
      "100:\tlearn: 0.1330225\ttotal: 3.23s\tremaining: 3.16s\n",
      "110:\tlearn: 0.1323905\ttotal: 3.52s\tremaining: 2.83s\n",
      "120:\tlearn: 0.1318296\ttotal: 3.83s\tremaining: 2.5s\n",
      "130:\tlearn: 0.1313341\ttotal: 4.14s\tremaining: 2.18s\n",
      "140:\tlearn: 0.1308769\ttotal: 4.44s\tremaining: 1.86s\n",
      "150:\tlearn: 0.1304995\ttotal: 4.76s\tremaining: 1.54s\n",
      "160:\tlearn: 0.1301311\ttotal: 5.06s\tremaining: 1.23s\n",
      "170:\tlearn: 0.1297368\ttotal: 5.37s\tremaining: 911ms\n",
      "180:\tlearn: 0.1293719\ttotal: 5.69s\tremaining: 597ms\n",
      "190:\tlearn: 0.1290593\ttotal: 5.99s\tremaining: 282ms\n",
      "199:\tlearn: 0.1287931\ttotal: 6.26s\tremaining: 0us\n"
     ]
    },
    {
     "data": {
      "text/plain": [
       "<catboost.core.CatBoostClassifier at 0x7e280bb633d0>"
      ]
     },
     "execution_count": 13,
     "metadata": {},
     "output_type": "execute_result"
    }
   ],
   "source": [
    "model = CatBoostClassifier(iterations=200, learning_rate=0.1, \n",
    "                           depth=6, loss_function='Logloss', \n",
    "                           random_seed=42, task_type=\"GPU\")\n",
    "model.fit(X_train_vec, y_train, verbose=10)"
   ]
  },
  {
   "cell_type": "code",
   "execution_count": 14,
   "id": "5fc8dd31",
   "metadata": {
    "execution": {
     "iopub.execute_input": "2023-05-08T18:59:41.949990Z",
     "iopub.status.busy": "2023-05-08T18:59:41.949626Z",
     "iopub.status.idle": "2023-05-08T19:00:19.245135Z",
     "shell.execute_reply": "2023-05-08T19:00:19.244187Z"
    },
    "papermill": {
     "duration": 37.306216,
     "end_time": "2023-05-08T19:00:19.247424",
     "exception": false,
     "start_time": "2023-05-08T18:59:41.941208",
     "status": "completed"
    },
    "tags": []
   },
   "outputs": [],
   "source": [
    "y_pred = model.predict(X_test_vec)"
   ]
  },
  {
   "cell_type": "code",
   "execution_count": 15,
   "id": "d27e1332",
   "metadata": {
    "execution": {
     "iopub.execute_input": "2023-05-08T19:00:19.261752Z",
     "iopub.status.busy": "2023-05-08T19:00:19.260230Z",
     "iopub.status.idle": "2023-05-08T19:00:19.268231Z",
     "shell.execute_reply": "2023-05-08T19:00:19.267457Z"
    },
    "papermill": {
     "duration": 0.016474,
     "end_time": "2023-05-08T19:00:19.270015",
     "exception": false,
     "start_time": "2023-05-08T19:00:19.253541",
     "status": "completed"
    },
    "tags": []
   },
   "outputs": [
    {
     "data": {
      "text/plain": [
       "array([1, 0, 0, ..., 0, 0, 0])"
      ]
     },
     "execution_count": 15,
     "metadata": {},
     "output_type": "execute_result"
    }
   ],
   "source": [
    "y_pred"
   ]
  },
  {
   "cell_type": "code",
   "execution_count": 16,
   "id": "051ec002",
   "metadata": {
    "execution": {
     "iopub.execute_input": "2023-05-08T19:00:19.282584Z",
     "iopub.status.busy": "2023-05-08T19:00:19.282329Z",
     "iopub.status.idle": "2023-05-08T19:00:19.286801Z",
     "shell.execute_reply": "2023-05-08T19:00:19.286046Z"
    },
    "papermill": {
     "duration": 0.012757,
     "end_time": "2023-05-08T19:00:19.288502",
     "exception": false,
     "start_time": "2023-05-08T19:00:19.275745",
     "status": "completed"
    },
    "tags": []
   },
   "outputs": [],
   "source": [
    "# y_pred = y_pred.ravel()"
   ]
  },
  {
   "cell_type": "markdown",
   "id": "10f84d17",
   "metadata": {
    "papermill": {
     "duration": 0.005522,
     "end_time": "2023-05-08T19:00:19.299808",
     "exception": false,
     "start_time": "2023-05-08T19:00:19.294286",
     "status": "completed"
    },
    "tags": []
   },
   "source": [
    "---\n",
    "# <font color=green>Making the final file</font>"
   ]
  },
  {
   "cell_type": "code",
   "execution_count": 17,
   "id": "bf6a5331",
   "metadata": {
    "execution": {
     "iopub.execute_input": "2023-05-08T19:00:19.312529Z",
     "iopub.status.busy": "2023-05-08T19:00:19.311815Z",
     "iopub.status.idle": "2023-05-08T19:00:19.558968Z",
     "shell.execute_reply": "2023-05-08T19:00:19.558062Z"
    },
    "papermill": {
     "duration": 0.255765,
     "end_time": "2023-05-08T19:00:19.561249",
     "exception": false,
     "start_time": "2023-05-08T19:00:19.305484",
     "status": "completed"
    },
    "tags": []
   },
   "outputs": [],
   "source": [
    "pd.DataFrame({'qid': test_df.qid, 'prediction': y_pred}).set_index('qid').to_csv('submission.csv')"
   ]
  },
  {
   "cell_type": "code",
   "execution_count": null,
   "id": "5f265bab",
   "metadata": {
    "papermill": {
     "duration": 0.005707,
     "end_time": "2023-05-08T19:00:19.573087",
     "exception": false,
     "start_time": "2023-05-08T19:00:19.567380",
     "status": "completed"
    },
    "tags": []
   },
   "outputs": [],
   "source": []
  }
 ],
 "metadata": {
  "kernelspec": {
   "display_name": "Python 3",
   "language": "python",
   "name": "python3"
  },
  "language_info": {
   "codemirror_mode": {
    "name": "ipython",
    "version": 3
   },
   "file_extension": ".py",
   "mimetype": "text/x-python",
   "name": "python",
   "nbconvert_exporter": "python",
   "pygments_lexer": "ipython3",
   "version": "3.10.10"
  },
  "papermill": {
   "default_parameters": {},
   "duration": 1039.379762,
   "end_time": "2023-05-08T19:00:22.298070",
   "environment_variables": {},
   "exception": null,
   "input_path": "__notebook__.ipynb",
   "output_path": "__notebook__.ipynb",
   "parameters": {},
   "start_time": "2023-05-08T18:43:02.918308",
   "version": "2.4.0"
  }
 },
 "nbformat": 4,
 "nbformat_minor": 5
}
